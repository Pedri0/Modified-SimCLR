{
 "cells": [
  {
   "cell_type": "code",
   "execution_count": 1,
   "id": "inside-rogers",
   "metadata": {},
   "outputs": [],
   "source": [
    "import pandas as pd"
   ]
  },
  {
   "cell_type": "code",
   "execution_count": 2,
   "id": "small-ballot",
   "metadata": {},
   "outputs": [],
   "source": [
    "data = pd.read_csv('nairTest.csv')"
   ]
  },
  {
   "cell_type": "code",
   "execution_count": 3,
   "id": "pharmaceutical-ghana",
   "metadata": {},
   "outputs": [
    {
     "data": {
      "text/html": [
       "<div>\n",
       "<style scoped>\n",
       "    .dataframe tbody tr th:only-of-type {\n",
       "        vertical-align: middle;\n",
       "    }\n",
       "\n",
       "    .dataframe tbody tr th {\n",
       "        vertical-align: top;\n",
       "    }\n",
       "\n",
       "    .dataframe thead th {\n",
       "        text-align: right;\n",
       "    }\n",
       "</style>\n",
       "<table border=\"1\" class=\"dataframe\">\n",
       "  <thead>\n",
       "    <tr style=\"text-align: right;\">\n",
       "      <th></th>\n",
       "      <th>name</th>\n",
       "      <th>new_class</th>\n",
       "    </tr>\n",
       "  </thead>\n",
       "  <tbody>\n",
       "    <tr>\n",
       "      <th>3863</th>\n",
       "      <td>J084612.98+482054.0.jpg</td>\n",
       "      <td>0</td>\n",
       "    </tr>\n",
       "    <tr>\n",
       "      <th>1595</th>\n",
       "      <td>J225426.53+011307.9.jpg</td>\n",
       "      <td>2</td>\n",
       "    </tr>\n",
       "    <tr>\n",
       "      <th>415</th>\n",
       "      <td>J160440.99+343948.0.jpg</td>\n",
       "      <td>2</td>\n",
       "    </tr>\n",
       "    <tr>\n",
       "      <th>1773</th>\n",
       "      <td>J095135.32+002605.0.jpg</td>\n",
       "      <td>4</td>\n",
       "    </tr>\n",
       "    <tr>\n",
       "      <th>2793</th>\n",
       "      <td>J111210.64-005845.1.jpg</td>\n",
       "      <td>2</td>\n",
       "    </tr>\n",
       "    <tr>\n",
       "      <th>2851</th>\n",
       "      <td>J150437.85+402219.4.jpg</td>\n",
       "      <td>3</td>\n",
       "    </tr>\n",
       "    <tr>\n",
       "      <th>3162</th>\n",
       "      <td>J111356.22+651039.4.jpg</td>\n",
       "      <td>3</td>\n",
       "    </tr>\n",
       "    <tr>\n",
       "      <th>3270</th>\n",
       "      <td>J075842.19+232127.2.jpg</td>\n",
       "      <td>2</td>\n",
       "    </tr>\n",
       "    <tr>\n",
       "      <th>785</th>\n",
       "      <td>J024807.15-091417.8.jpg</td>\n",
       "      <td>2</td>\n",
       "    </tr>\n",
       "    <tr>\n",
       "      <th>711</th>\n",
       "      <td>J031538.62-070443.7.jpg</td>\n",
       "      <td>3</td>\n",
       "    </tr>\n",
       "  </tbody>\n",
       "</table>\n",
       "</div>"
      ],
      "text/plain": [
       "                         name  new_class\n",
       "3863  J084612.98+482054.0.jpg          0\n",
       "1595  J225426.53+011307.9.jpg          2\n",
       "415   J160440.99+343948.0.jpg          2\n",
       "1773  J095135.32+002605.0.jpg          4\n",
       "2793  J111210.64-005845.1.jpg          2\n",
       "2851  J150437.85+402219.4.jpg          3\n",
       "3162  J111356.22+651039.4.jpg          3\n",
       "3270  J075842.19+232127.2.jpg          2\n",
       "785   J024807.15-091417.8.jpg          2\n",
       "711   J031538.62-070443.7.jpg          3"
      ]
     },
     "execution_count": 3,
     "metadata": {},
     "output_type": "execute_result"
    }
   ],
   "source": [
    "data.sample(n=10)"
   ]
  },
  {
   "cell_type": "code",
   "execution_count": 4,
   "id": "intimate-austin",
   "metadata": {},
   "outputs": [],
   "source": [
    "serie0 = data[data.loc[:,'new_class'] == 0]\n",
    "serie1 = data[data.loc[:,'new_class'] == 1]\n",
    "serie2 = data[data.loc[:,'new_class'] == 2]\n",
    "serie3 = data[data.loc[:,'new_class'] == 3]\n",
    "serie4 = data[data.loc[:,'new_class'] == 4]"
   ]
  },
  {
   "cell_type": "code",
   "execution_count": 5,
   "id": "banner-kitty",
   "metadata": {},
   "outputs": [],
   "source": [
    "serie0 = serie0.sample(n=10)\n",
    "serie1 = serie1.sample(n=10)\n",
    "serie2 = serie2.sample(n=10)\n",
    "serie3 = serie3.sample(n=10)\n",
    "serie4 = serie4.sample(n=10)"
   ]
  },
  {
   "cell_type": "code",
   "execution_count": 7,
   "id": "surprised-occasions",
   "metadata": {},
   "outputs": [],
   "source": [
    "grad_cam = pd.concat([serie0, serie1, serie2, serie3, serie4])"
   ]
  },
  {
   "cell_type": "code",
   "execution_count": 10,
   "id": "responsible-installation",
   "metadata": {},
   "outputs": [],
   "source": [
    "grad_cam.to_csv('grad_cam0.csv', index=None)"
   ]
  }
 ],
 "metadata": {
  "kernelspec": {
   "display_name": "Python 3",
   "language": "python",
   "name": "python3"
  },
  "language_info": {
   "codemirror_mode": {
    "name": "ipython",
    "version": 3
   },
   "file_extension": ".py",
   "mimetype": "text/x-python",
   "name": "python",
   "nbconvert_exporter": "python",
   "pygments_lexer": "ipython3",
   "version": "3.8.8"
  }
 },
 "nbformat": 4,
 "nbformat_minor": 5
}

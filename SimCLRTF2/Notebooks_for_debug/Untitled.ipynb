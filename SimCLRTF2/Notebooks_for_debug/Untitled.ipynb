{
 "cells": [
  {
   "cell_type": "code",
   "execution_count": 1,
   "metadata": {},
   "outputs": [],
   "source": [
    "import tensorflow as tf"
   ]
  },
  {
   "cell_type": "code",
   "execution_count": null,
   "metadata": {},
   "outputs": [],
   "source": [
    "def single_step(features, model):\n",
    "    with tf.GradientTape() as tape:\n",
    "        projection_head_outputs = model(features, training = True)\n",
    "        con_loss, logits_con, labels_con = contrastive_loss(\n",
    "            projection_head_outputs, hidden_norm=FLAGS.hidden_norm, temperature=FLAGS.temperature)\n",
    "        metrics.update_pretrain_metrics_train(\n",
    "                contrast_loss_metric, contrast_acc_metric, contrast_entropy_metric,con_loss,logits_con,labels_con)\n",
    "        weight_decay = model_lib.add_weight_decay(model)\n",
    "        weight_decay_metric.update_state(weight_decay)\n",
    "        con_loss += weight_decay\n",
    "        total_loss_metric.update_state(con_loss)\n",
    "        grads = tape.gradient(con_loss, model.trainable_variables)\n",
    "        optimizer.apply_gradients(zip(grads, model.trainable_variables))\n",
    "        "
   ]
  },
  {
   "cell_type": "code",
   "execution_count": 4,
   "metadata": {},
   "outputs": [
    {
     "data": {
      "text/plain": [
       "10"
      ]
     },
     "execution_count": 4,
     "metadata": {},
     "output_type": "execute_result"
    }
   ],
   "source": [
    "def contrastive_loss(hidden, hidden_norm=True, temperature=1.0):\n",
    "    if hidden_norm:\n",
    "        hidden = tf.math.l2_normalize(hidden, -1)\n",
    "    hidden1, hidden2 = tf.split(hidden, 2, 0)\n",
    "    batch_size = tf.shape(hidden1)[0]\n",
    "    labels = tf.one_hot(tf.range(batch_size), batch_size * 2)\n",
    "    masks = tf.one_hot(tf.range(batch_size), batch_size)\n",
    "    \n",
    "    similarity1 = tf.matmul(hidden1, hidden1, transpose_b=True) / temperature\n",
    "    similarity1 = similarity1 - masks*1e9\n",
    "    similarity2 = tf.matmul(hidden2, hidden2, transpose_b=True) / temperature\n",
    "    similarity2 = similarity2 - masks*1e9\n",
    "    similarity12 = tf.matmul(hidden1, hidden2, transpose_b=True) / temperature\n",
    "    similarity21 = tf.matmul(hidden2, hidden1, transpose_b=True) / temperature\n",
    "    \n",
    "    loss_a = tf.nn.softmax_cross_entropy_with_logits(labels, tf.concat([similarity12, similarity1], 1))\n",
    "    loss_b = tf.nn.softmax_cross_entropy_with_logits(labels, tf.concat([similarity21, similarity2], 1))\n",
    "    loss = tf.reduce_mean(loss_a + loss_b)\n",
    "    \n",
    "    return loss, similarity12, labels"
   ]
  },
  {
   "cell_type": "code",
   "execution_count": 15,
   "metadata": {},
   "outputs": [
    {
     "data": {
      "text/plain": [
       "<tf.Tensor: shape=(16,), dtype=int32, numpy=\n",
       "array([ 0,  1,  2,  3,  4,  5,  6,  7,  8,  9, 10, 11, 12, 13, 14, 15],\n",
       "      dtype=int32)>"
      ]
     },
     "execution_count": 15,
     "metadata": {},
     "output_type": "execute_result"
    }
   ],
   "source": [
    "tf.range(16)"
   ]
  },
  {
   "cell_type": "code",
   "execution_count": 17,
   "metadata": {},
   "outputs": [
    {
     "data": {
      "text/plain": [
       "<tf.Tensor: shape=(16, 16), dtype=float32, numpy=\n",
       "array([[1., 0., 0., 0., 0., 0., 0., 0., 0., 0., 0., 0., 0., 0., 0., 0.],\n",
       "       [0., 1., 0., 0., 0., 0., 0., 0., 0., 0., 0., 0., 0., 0., 0., 0.],\n",
       "       [0., 0., 1., 0., 0., 0., 0., 0., 0., 0., 0., 0., 0., 0., 0., 0.],\n",
       "       [0., 0., 0., 1., 0., 0., 0., 0., 0., 0., 0., 0., 0., 0., 0., 0.],\n",
       "       [0., 0., 0., 0., 1., 0., 0., 0., 0., 0., 0., 0., 0., 0., 0., 0.],\n",
       "       [0., 0., 0., 0., 0., 1., 0., 0., 0., 0., 0., 0., 0., 0., 0., 0.],\n",
       "       [0., 0., 0., 0., 0., 0., 1., 0., 0., 0., 0., 0., 0., 0., 0., 0.],\n",
       "       [0., 0., 0., 0., 0., 0., 0., 1., 0., 0., 0., 0., 0., 0., 0., 0.],\n",
       "       [0., 0., 0., 0., 0., 0., 0., 0., 1., 0., 0., 0., 0., 0., 0., 0.],\n",
       "       [0., 0., 0., 0., 0., 0., 0., 0., 0., 1., 0., 0., 0., 0., 0., 0.],\n",
       "       [0., 0., 0., 0., 0., 0., 0., 0., 0., 0., 1., 0., 0., 0., 0., 0.],\n",
       "       [0., 0., 0., 0., 0., 0., 0., 0., 0., 0., 0., 1., 0., 0., 0., 0.],\n",
       "       [0., 0., 0., 0., 0., 0., 0., 0., 0., 0., 0., 0., 1., 0., 0., 0.],\n",
       "       [0., 0., 0., 0., 0., 0., 0., 0., 0., 0., 0., 0., 0., 1., 0., 0.],\n",
       "       [0., 0., 0., 0., 0., 0., 0., 0., 0., 0., 0., 0., 0., 0., 1., 0.],\n",
       "       [0., 0., 0., 0., 0., 0., 0., 0., 0., 0., 0., 0., 0., 0., 0., 1.]],\n",
       "      dtype=float32)>"
      ]
     },
     "execution_count": 17,
     "metadata": {},
     "output_type": "execute_result"
    }
   ],
   "source": [
    "tf.one_hot(tf.range(16), 16)"
   ]
  },
  {
   "cell_type": "code",
   "execution_count": 13,
   "metadata": {},
   "outputs": [
    {
     "data": {
      "text/plain": [
       "<tf.Tensor: shape=(8, 2048), dtype=float32, numpy=\n",
       "array([[ 0.4967835 ,  0.53118134, -0.74064374, ..., -0.88074803,\n",
       "        -0.2715497 ,  0.05539417],\n",
       "       [ 0.9060056 , -0.0352242 ,  0.5805054 , ..., -0.519958  ,\n",
       "        -0.79685926,  0.26861048],\n",
       "       [ 0.91540766, -0.55491924, -0.7081678 , ..., -0.6720772 ,\n",
       "        -0.7275002 , -0.09729791],\n",
       "       ...,\n",
       "       [-0.3710258 , -0.27557802, -0.04614735, ...,  0.07753706,\n",
       "         0.233598  , -0.63305736],\n",
       "       [-0.77266335,  0.32226324, -0.6943145 , ...,  0.11404729,\n",
       "         0.07968116,  0.18304658],\n",
       "       [ 0.48513317,  0.6111293 , -0.5276947 , ...,  0.9431939 ,\n",
       "        -0.02665091, -0.83411145]], dtype=float32)>"
      ]
     },
     "execution_count": 13,
     "metadata": {},
     "output_type": "execute_result"
    }
   ],
   "source": [
    "s"
   ]
  },
  {
   "cell_type": "code",
   "execution_count": 14,
   "metadata": {},
   "outputs": [
    {
     "data": {
      "text/plain": [
       "<tf.Tensor: shape=(8, 2048), dtype=float32, numpy=\n",
       "array([[ 0.6171417 , -0.4228592 ,  0.91086936, ..., -0.74918985,\n",
       "         0.62310505, -0.8379803 ],\n",
       "       [-0.7906213 ,  0.6534364 ,  0.85992503, ...,  0.6745951 ,\n",
       "        -0.9756386 ,  0.8839643 ],\n",
       "       [-0.7955861 , -0.53152776,  0.26060033, ..., -0.7868061 ,\n",
       "         0.33414507, -0.23360443],\n",
       "       ...,\n",
       "       [-0.15056896, -0.18455172,  0.26310015, ..., -0.9537008 ,\n",
       "         0.5488591 , -0.34809422],\n",
       "       [-0.8403487 ,  0.386868  , -0.55087876, ..., -0.28239393,\n",
       "        -0.04989457,  0.12627053],\n",
       "       [-0.19365144,  0.23050189, -0.4366145 , ..., -0.38509417,\n",
       "        -0.80985355, -0.75337005]], dtype=float32)>"
      ]
     },
     "execution_count": 14,
     "metadata": {},
     "output_type": "execute_result"
    }
   ],
   "source": [
    "s1"
   ]
  },
  {
   "cell_type": "code",
   "execution_count": 19,
   "metadata": {},
   "outputs": [],
   "source": [
    "train_mode = 'finetune'\n",
    "fine_tune_after_block = 0"
   ]
  },
  {
   "cell_type": "code",
   "execution_count": 20,
   "metadata": {},
   "outputs": [
    {
     "data": {
      "text/plain": [
       "False"
      ]
     },
     "execution_count": 20,
     "metadata": {},
     "output_type": "execute_result"
    }
   ],
   "source": [
    "trainable = (train_mode != 'finetune' or fine_tune_after_block == -1)\n",
    "trainable"
   ]
  },
  {
   "cell_type": "code",
   "execution_count": 1,
   "metadata": {},
   "outputs": [],
   "source": [
    "l1, l2, l3, l4, l5 = ([] for i in range(5))"
   ]
  },
  {
   "cell_type": "code",
   "execution_count": 11,
   "metadata": {},
   "outputs": [
    {
     "data": {
      "text/plain": [
       "3"
      ]
     },
     "execution_count": 11,
     "metadata": {},
     "output_type": "execute_result"
    }
   ],
   "source": [
    "l5.append(3)\n",
    "l5[4]"
   ]
  }
 ],
 "metadata": {
  "kernelspec": {
   "display_name": "SIM",
   "language": "python",
   "name": "sim"
  },
  "language_info": {
   "codemirror_mode": {
    "name": "ipython",
    "version": 3
   },
   "file_extension": ".py",
   "mimetype": "text/x-python",
   "name": "python",
   "nbconvert_exporter": "python",
   "pygments_lexer": "ipython3",
   "version": "3.7.9"
  }
 },
 "nbformat": 4,
 "nbformat_minor": 4
}

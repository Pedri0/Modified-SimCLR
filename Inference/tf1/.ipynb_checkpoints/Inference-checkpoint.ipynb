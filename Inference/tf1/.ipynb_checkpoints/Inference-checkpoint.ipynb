{
 "cells": [
  {
   "cell_type": "markdown",
   "metadata": {},
   "source": [
    "### This code only work with models saved from TensorFlow v1"
   ]
  },
  {
   "cell_type": "code",
   "execution_count": 1,
   "metadata": {},
   "outputs": [
    {
     "name": "stdout",
     "output_type": "stream",
     "text": [
      "WARNING:tensorflow:From /usr/local/lib/python3.8/dist-packages/tensorflow/python/compat/v2_compat.py:96: disable_resource_variables (from tensorflow.python.ops.variable_scope) is deprecated and will be removed in a future version.\n",
      "Instructions for updating:\n",
      "non-resource variables are not supported in the long term\n"
     ]
    }
   ],
   "source": [
    "import tensorflow.compat.v1 as tf\n",
    "tf.disable_v2_behavior()\n",
    "import galaxies_datTrue as galax\n",
    "#from matplotlib import pyplot as plt\n",
    "import data_util as data_util\n",
    "import PreprocessImagesforInference as prep\n",
    "import tensorflow_hub as hub\n",
    "import numpy as np\n",
    "#from matplotlib import pyplot as plt\n",
    "physical_devices = tf.config.list_physical_devices('GPU') \n",
    "tf.config.experimental.set_memory_growth(physical_devices[0], True)"
   ]
  },
  {
   "cell_type": "markdown",
   "metadata": {},
   "source": [
    "### Prepare dataset with batch size of 16"
   ]
  },
  {
   "cell_type": "code",
   "execution_count": 2,
   "metadata": {},
   "outputs": [],
   "source": [
    "ds = galax.get_data_test()\n",
    "ds = ds.map(prep.map_fn,num_parallel_calls=tf.data.experimental.AUTOTUNE)\n",
    "ds = ds.batch(16, drop_remainder=False)\n",
    "ds = prep.pad_to_batch(ds, 16)\n",
    "#get images and labels from ds\n",
    "images, labels = tf.data.make_one_shot_iterator(ds).get_next()"
   ]
  },
  {
   "cell_type": "markdown",
   "metadata": {},
   "source": [
    "### Open model"
   ]
  },
  {
   "cell_type": "code",
   "execution_count": 3,
   "metadata": {},
   "outputs": [
    {
     "name": "stdout",
     "output_type": "stream",
     "text": [
      "INFO:tensorflow:Saver not created because there are no variables in the graph to restore\n",
      "{'initial_max_pool': <tf.Tensor 'module_apply_default/base_model/initial_max_pool:0' shape=(16, 83, 83, 64) dtype=float32>, 'block_group4': <tf.Tensor 'module_apply_default/base_model/block_group4:0' shape=(16, 11, 11, 2048) dtype=float32>, 'block_group1': <tf.Tensor 'module_apply_default/base_model/block_group1:0' shape=(16, 83, 83, 256) dtype=float32>, 'block_group2': <tf.Tensor 'module_apply_default/base_model/block_group2:0' shape=(16, 42, 42, 512) dtype=float32>, 'initial_conv': <tf.Tensor 'module_apply_default/base_model/initial_conv:0' shape=(16, 165, 165, 64) dtype=float32>, 'block_group3': <tf.Tensor 'module_apply_default/base_model/block_group3:0' shape=(16, 21, 21, 1024) dtype=float32>, 'logits_sup': <tf.Tensor 'module_apply_default/head_supervised/linear_layer/linear_layer_out:0' shape=(16, 5) dtype=float32>, 'default': <tf.Tensor 'module_apply_default/base_model/final_avg_pool:0' shape=(16, 2048) dtype=float32>, 'final_avg_pool': <tf.Tensor 'module_apply_default/base_model/final_avg_pool:0' shape=(16, 2048) dtype=float32>}\n"
     ]
    }
   ],
   "source": [
    "#set the path were the model is stored\n",
    "hub_path = 'savedModels/astropre100epochsfine90/finetunas/hub/141358/'\n",
    "module = hub.Module(hub_path, trainable=False)\n",
    "key = module(inputs=images, signature=\"default\", as_dict=True)\n",
    "logits_t = key['logits_sup'][:, :]\n",
    "print(key)"
   ]
  },
  {
   "cell_type": "markdown",
   "metadata": {},
   "source": [
    "### Inference with given images from galaxies_datTrue method get_data_test()"
   ]
  },
  {
   "cell_type": "code",
   "execution_count": 4,
   "metadata": {},
   "outputs": [],
   "source": [
    "#if you want to change the images please modify the get_data_test() method in galaxies_datTrue.py\n",
    "#set lists to store predicted clases and real clases\n",
    "predicted = []\n",
    "real_label = []\n",
    "#do inference\n",
    "with tf.compat.v1.Session() as ses:\n",
    "    ses.run(tf.global_variables_initializer())\n",
    "    try:\n",
    "        while True:\n",
    "            image, label, logits = ses.run((images, labels, logits_t))\n",
    "            pred = logits.argmax(-1)\n",
    "            predicted.append(pred)\n",
    "            for i in range(16):\n",
    "                if np.sum(label[i]!=0):\n",
    "                    real_label.append(label[i])\n",
    "                else:\n",
    "                    continue\n",
    "        \n",
    "    except tf.errors.OutOfRangeError:\n",
    "        pass"
   ]
  },
  {
   "cell_type": "markdown",
   "metadata": {},
   "source": [
    "### 'Process' the results"
   ]
  },
  {
   "cell_type": "code",
   "execution_count": 5,
   "metadata": {},
   "outputs": [],
   "source": [
    "#convert lists to numpy arrays        \n",
    "predicted = np.array(predicted)\n",
    "predicted = predicted.flatten()\n",
    "\n",
    "real_label = np.array(real_label)\n",
    "#one hot for predicted array\n",
    "with tf.compat.v1.Session() as ses:\n",
    "    prediction_one_hot = ses.run((tf.one_hot(predicted,5)))"
   ]
  },
  {
   "cell_type": "markdown",
   "metadata": {},
   "source": [
    "### Get Acurracy of the model"
   ]
  },
  {
   "cell_type": "code",
   "execution_count": 6,
   "metadata": {},
   "outputs": [
    {
     "name": "stdout",
     "output_type": "stream",
     "text": [
      "Accuracy : 69.05058559681036 %\n"
     ]
    }
   ],
   "source": [
    "#count how many correct predictions\n",
    "count = 0\n",
    "for i in range(real_label.shape[0]):\n",
    "    is_true = np.array_equal(prediction_one_hot[i], real_label[i])\n",
    "    if is_true:\n",
    "        count += 1\n",
    "print('Accuracy : {} %'.format((count*100/real_label.shape[0])))"
   ]
  },
  {
   "cell_type": "markdown",
   "metadata": {},
   "source": [
    "### Showing the last images"
   ]
  },
  {
   "cell_type": "code",
   "execution_count": 7,
   "metadata": {},
   "outputs": [],
   "source": [
    "#function to convert float32 image into uint8 image\n",
    "def convert(img, target_type_min=0, target_type_max=255, target_type='uint8'):\n",
    "    imin = img.min()\n",
    "    imax = img.max()\n",
    "\n",
    "    a = (target_type_max - target_type_min) / (imax - imin)\n",
    "    b = target_type_max - a * imax\n",
    "    new_img = (a * img + b).astype(target_type)\n",
    "    return new_img"
   ]
  },
  {
   "cell_type": "code",
   "execution_count": 8,
   "metadata": {},
   "outputs": [],
   "source": [
    "#convert each image\n",
    "img = []\n",
    "for i in range(9):\n",
    "    im = convert(image[i])\n",
    "    img.append(im)"
   ]
  },
  {
   "cell_type": "code",
   "execution_count": 9,
   "metadata": {},
   "outputs": [
    {
     "ename": "NameError",
     "evalue": "name 'plt' is not defined",
     "output_type": "error",
     "traceback": [
      "\u001b[0;31m---------------------------------------------------------------------------\u001b[0m",
      "\u001b[0;31mNameError\u001b[0m                                 Traceback (most recent call last)",
      "\u001b[0;32m<ipython-input-9-ea1e111a887a>\u001b[0m in \u001b[0;36m<module>\u001b[0;34m\u001b[0m\n\u001b[0;32m----> 1\u001b[0;31m \u001b[0mplt\u001b[0m\u001b[0;34m.\u001b[0m\u001b[0mfigure\u001b[0m\u001b[0;34m(\u001b[0m\u001b[0mfigsize\u001b[0m\u001b[0;34m=\u001b[0m\u001b[0;34m(\u001b[0m\u001b[0;36m15\u001b[0m\u001b[0;34m,\u001b[0m\u001b[0;36m15\u001b[0m\u001b[0;34m)\u001b[0m\u001b[0;34m)\u001b[0m\u001b[0;34m\u001b[0m\u001b[0;34m\u001b[0m\u001b[0m\n\u001b[0m\u001b[1;32m      2\u001b[0m \u001b[0;32mfor\u001b[0m \u001b[0mi\u001b[0m \u001b[0;32min\u001b[0m \u001b[0mrange\u001b[0m\u001b[0;34m(\u001b[0m\u001b[0;36m9\u001b[0m\u001b[0;34m)\u001b[0m\u001b[0;34m:\u001b[0m\u001b[0;34m\u001b[0m\u001b[0;34m\u001b[0m\u001b[0m\n\u001b[1;32m      3\u001b[0m     \u001b[0max\u001b[0m \u001b[0;34m=\u001b[0m \u001b[0mplt\u001b[0m\u001b[0;34m.\u001b[0m\u001b[0msubplot\u001b[0m\u001b[0;34m(\u001b[0m\u001b[0;36m3\u001b[0m\u001b[0;34m,\u001b[0m \u001b[0;36m3\u001b[0m\u001b[0;34m,\u001b[0m \u001b[0mi\u001b[0m \u001b[0;34m+\u001b[0m \u001b[0;36m1\u001b[0m\u001b[0;34m)\u001b[0m\u001b[0;34m\u001b[0m\u001b[0;34m\u001b[0m\u001b[0m\n\u001b[1;32m      4\u001b[0m     \u001b[0mplt\u001b[0m\u001b[0;34m.\u001b[0m\u001b[0mimshow\u001b[0m\u001b[0;34m(\u001b[0m\u001b[0mimg\u001b[0m\u001b[0;34m[\u001b[0m\u001b[0mi\u001b[0m\u001b[0;34m]\u001b[0m\u001b[0;34m)\u001b[0m\u001b[0;34m\u001b[0m\u001b[0;34m\u001b[0m\u001b[0m\n\u001b[1;32m      5\u001b[0m     \u001b[0mplt\u001b[0m\u001b[0;34m.\u001b[0m\u001b[0maxis\u001b[0m\u001b[0;34m(\u001b[0m\u001b[0;34m\"off\"\u001b[0m\u001b[0;34m)\u001b[0m\u001b[0;34m\u001b[0m\u001b[0;34m\u001b[0m\u001b[0m\n",
      "\u001b[0;31mNameError\u001b[0m: name 'plt' is not defined"
     ]
    }
   ],
   "source": [
    "plt.figure(figsize=(15,15))\n",
    "for i in range(9):\n",
    "    ax = plt.subplot(3, 3, i + 1)\n",
    "    plt.imshow(img[i])\n",
    "    plt.axis(\"off\")"
   ]
  }
 ],
 "metadata": {
  "kernelspec": {
   "display_name": "Python 3",
   "language": "python",
   "name": "python3"
  },
  "language_info": {
   "codemirror_mode": {
    "name": "ipython",
    "version": 3
   },
   "file_extension": ".py",
   "mimetype": "text/x-python",
   "name": "python",
   "nbconvert_exporter": "python",
   "pygments_lexer": "ipython3",
   "version": "3.8.5"
  }
 },
 "nbformat": 4,
 "nbformat_minor": 4
}

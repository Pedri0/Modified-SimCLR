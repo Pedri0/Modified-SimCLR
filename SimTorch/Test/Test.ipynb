{
 "cells": [
  {
   "cell_type": "code",
   "execution_count": 1,
   "id": "2a9ff9a4",
   "metadata": {},
   "outputs": [],
   "source": [
    "import Model as md\n",
    "import Resnet as res\n",
    "import data as dta\n",
    "import torch\n",
    "import torch.nn as nn\n",
    "import torch.optim as optim\n",
    "from pytorch_metric_learning import losses\n",
    "from torchvision import transforms as T\n",
    "from torch.utils.data import DataLoader\n",
    "from absl import app\n",
    "from absl import flags\n",
    "from absl import logging\n",
    "import os\n",
    "from tqdm import tqdm\n",
    "\n",
    "from torch.cuda import amp\n",
    "import pandas as pd\n",
    "import math"
   ]
  },
  {
   "cell_type": "code",
   "execution_count": 2,
   "id": "6ac0f87a",
   "metadata": {},
   "outputs": [],
   "source": [
    "encoder = res.ResNet50().cuda()\n",
    "proj_head = md.Projection_Head(encoder.representation_dim, 1).cuda()\n",
    "sup_head = md.Supervised_Head(proj_head.output, 5).cuda()"
   ]
  },
  {
   "cell_type": "code",
   "execution_count": 3,
   "id": "611f30ab",
   "metadata": {},
   "outputs": [],
   "source": [
    "transf_eval = T.Compose([\n",
    "    T.CenterCrop(380),\n",
    "    T.Resize(112),\n",
    "    T.ToTensor(),\n",
    "])"
   ]
  },
  {
   "cell_type": "code",
   "execution_count": 4,
   "id": "63e40112",
   "metadata": {},
   "outputs": [],
   "source": [
    "astro_ds = dta.AstroDataset('nairTest.csv', 'imagenes_clasificadas_nair/', transform=transf_eval)\n",
    "dataset_astro = DataLoader(astro_ds,batch_size=128, shuffle=False,num_workers=6)"
   ]
  },
  {
   "cell_type": "code",
   "execution_count": 5,
   "id": "ae954541",
   "metadata": {},
   "outputs": [
    {
     "data": {
      "text/plain": [
       "<All keys matched successfully>"
      ]
     },
     "execution_count": 5,
     "metadata": {},
     "output_type": "execute_result"
    }
   ],
   "source": [
    "checkpoint = torch.load('finetuned_model/model.pt')\n",
    "encoder.load_state_dict(checkpoint['encoder'])\n",
    "proj_head.load_state_dict(checkpoint['projection_head'], strict=False)\n",
    "sup_head.load_state_dict(checkpoint['supervised_head'])"
   ]
  },
  {
   "cell_type": "code",
   "execution_count": 6,
   "id": "e9e95693",
   "metadata": {},
   "outputs": [
    {
     "data": {
      "text/plain": [
       "Supervised_Head(\n",
       "  (supervised_head): Linear(in_features=2048, out_features=5, bias=True)\n",
       ")"
      ]
     },
     "execution_count": 6,
     "metadata": {},
     "output_type": "execute_result"
    }
   ],
   "source": [
    "encoder.eval()\n",
    "proj_head.eval()\n",
    "sup_head.eval()"
   ]
  },
  {
   "cell_type": "code",
   "execution_count": 7,
   "id": "aab37694",
   "metadata": {},
   "outputs": [],
   "source": [
    "softmax = nn.Softmax(dim=1)"
   ]
  },
  {
   "cell_type": "code",
   "execution_count": 8,
   "id": "d1d7eaed",
   "metadata": {},
   "outputs": [
    {
     "name": "stderr",
     "output_type": "stream",
     "text": [
      "100%|██████████████████████████████████████████████████████████████████████████████████| 32/32 [00:07<00:00,  4.14it/s]"
     ]
    },
    {
     "name": "stdout",
     "output_type": "stream",
     "text": [
      "Acc 63.99203109741211\n"
     ]
    },
    {
     "name": "stderr",
     "output_type": "stream",
     "text": [
      "\n"
     ]
    }
   ],
   "source": [
    "tqdm_loop = tqdm(enumerate(dataset_astro), total=len(dataset_astro), leave=True)\n",
    "acc = 0\n",
    "for batch_idx, data in tqdm_loop:\n",
    "    with torch.no_grad():\n",
    "        image = data[0].cuda()\n",
    "        labels = data[1].cuda()\n",
    "        output_val = sup_head(proj_head(encoder(image)))\n",
    "        output_val = softmax(output_val)\n",
    "        acc_val = torch.argmax(output_val,dim=1)\n",
    "        acc_val = (acc_val == labels).float().sum()\n",
    "        acc += acc_val\n",
    "acc /= astro_ds.__len__()\n",
    "print('Acc {}'.format(acc*100))"
   ]
  },
  {
   "cell_type": "code",
   "execution_count": 9,
   "id": "f8788c00",
   "metadata": {},
   "outputs": [
    {
     "data": {
      "text/plain": [
       "4013"
      ]
     },
     "execution_count": 9,
     "metadata": {},
     "output_type": "execute_result"
    }
   ],
   "source": [
    "astro_ds.__len__()"
   ]
  }
 ],
 "metadata": {
  "kernelspec": {
   "display_name": "Python 3",
   "language": "python",
   "name": "python3"
  },
  "language_info": {
   "codemirror_mode": {
    "name": "ipython",
    "version": 3
   },
   "file_extension": ".py",
   "mimetype": "text/x-python",
   "name": "python",
   "nbconvert_exporter": "python",
   "pygments_lexer": "ipython3",
   "version": "3.8.8"
  }
 },
 "nbformat": 4,
 "nbformat_minor": 5
}

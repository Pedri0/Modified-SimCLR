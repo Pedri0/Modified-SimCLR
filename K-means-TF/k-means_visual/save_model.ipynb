{
 "cells": [
  {
   "cell_type": "code",
   "execution_count": 1,
   "id": "rural-ranch",
   "metadata": {},
   "outputs": [
    {
     "name": "stderr",
     "output_type": "stream",
     "text": [
      "/usr/local/lib/python3.8/dist-packages/tensorflow_addons/utils/ensure_tf_install.py:54: UserWarning: Tensorflow Addons supports using Python ops for all Tensorflow versions above or equal to 2.2.0 and strictly below 2.4.0 (nightly versions are not supported). \n",
      " The versions of TensorFlow you are currently using is 2.4.0 and is not supported. \n",
      "Some things might work, some things might not.\n",
      "If you were to encounter a bug, do not file an issue.\n",
      "If you want to make sure you're using a tested and supported configuration, either change the TensorFlow version or the TensorFlow Addons's version. \n",
      "You can find the compatibility matrix in TensorFlow Addon's readme:\n",
      "https://github.com/tensorflow/addons\n",
      "  warnings.warn(\n"
     ]
    }
   ],
   "source": [
    "import model_lib\n",
    "import resnet_pretrain\n",
    "import tensorflow as tf\n",
    "import os"
   ]
  },
  {
   "cell_type": "code",
   "execution_count": 2,
   "id": "consolidated-vegetarian",
   "metadata": {},
   "outputs": [
    {
     "name": "stdout",
     "output_type": "stream",
     "text": [
      "INFO:tensorflow:Using MirroredStrategy with devices ('/job:localhost/replica:0/task:0/device:GPU:0',)\n"
     ]
    }
   ],
   "source": [
    "strategy = tf.distribute.MirroredStrategy()\n",
    "with strategy.scope():\n",
    "    model = model_lib.Model()"
   ]
  },
  {
   "cell_type": "code",
   "execution_count": 3,
   "id": "antique-robert",
   "metadata": {},
   "outputs": [],
   "source": [
    "checkpoint = tf.train.Checkpoint(model=model, global_step=tf.Variable(0, dtype=tf.int64))\n",
    "checkpoint.restore('checkpoint/ckpt-99').expect_partial()\n",
    "global_step = checkpoint.global_step"
   ]
  },
  {
   "cell_type": "code",
   "execution_count": 4,
   "id": "continental-cleveland",
   "metadata": {},
   "outputs": [
    {
     "data": {
      "text/plain": [
       "2513100"
      ]
     },
     "execution_count": 4,
     "metadata": {},
     "output_type": "execute_result"
    }
   ],
   "source": [
    "global_step.numpy()"
   ]
  },
  {
   "cell_type": "code",
   "execution_count": 5,
   "id": "theoretical-costume",
   "metadata": {},
   "outputs": [],
   "source": [
    "def save(model, global_step):\n",
    "    #Export as SavedModel for finetuning and inference.\n",
    "    saved_model = build_saved_model(model)\n",
    "    export_dir = os.path.join('checkpoint', 'saved_model')\n",
    "    checkpoint_export_dir = os.path.join(export_dir, str(global_step.numpy()))\n",
    "    if tf.io.gfile.exists(checkpoint_export_dir):\n",
    "        tf.io.gfile.rmtree(checkpoint_export_dir)\n",
    "    tf.saved_model.save(saved_model, checkpoint_export_dir)\n",
    "\n",
    "    #if FLAGS.keep_hub_module_max > 0:\n",
    "        # Delete old exported SavedModels.\n",
    "    exported_steps = []\n",
    "    for subdir in tf.io.gfile.listdir(export_dir):\n",
    "        if not subdir.isdigit():\n",
    "            continue\n",
    "        exported_steps.append(int(subdir))\n",
    "    exported_steps.sort()\n",
    "    for step_to_delete in exported_steps[:-1]:\n",
    "        tf.io.gfile.rmtree(os.path.join(export_dir, str(step_to_delete)))\n",
    "\n",
    "\n",
    "def build_saved_model(model):\n",
    "    #Returns a tf.Module for saving to SavedModel.\n",
    "    class SimCLRModel(tf.Module):\n",
    "       #Saved model for exporting to hub.\n",
    "\n",
    "        def __init__(self, model):\n",
    "            self.model = model\n",
    "            # This can't be called `trainable_variables` because `tf.Module` has a getter with the same name.\n",
    "            self.trainable_variables_list = model.trainable_variables\n",
    "        \n",
    "        @tf.function\n",
    "        def __call__(self, inputs, trainable):\n",
    "            self.model(inputs, training=trainable)\n",
    "            return get_salient_tensors_dict()\n",
    "\n",
    "    module = SimCLRModel(model)\n",
    "    input_spec = tf.TensorSpec(shape=[None, None, None, 3], dtype=tf.float32)\n",
    "    module.__call__.get_concrete_function(input_spec, trainable=True)\n",
    "    module.__call__.get_concrete_function(input_spec, trainable=False)\n",
    "    return module\n",
    "\n",
    "\n",
    "def get_salient_tensors_dict():\n",
    "    #Returns a dictionary of tensors.\n",
    "    graph = tf.compat.v1.get_default_graph()\n",
    "    result = {}\n",
    "    for i in range(1, 5):\n",
    "        result['block_group%d' % i] = graph.get_tensor_by_name('resnet/block_group%d/block_group%d:0' % (i, i))\n",
    "    \n",
    "    result['initial_conv'] = graph.get_tensor_by_name('resnet/initial_conv/Identity:0')\n",
    "    result['initial_max_pool'] = graph.get_tensor_by_name('resnet/initial_max_pool/Identity:0')\n",
    "    result['final_avg_pool'] = graph.get_tensor_by_name('resnet/final_avg_pool:0')\n",
    "    result['logits'] = graph.get_tensor_by_name('proj_h/proj_head_output:0')\n",
    "\n",
    "    return result"
   ]
  },
  {
   "cell_type": "code",
   "execution_count": 6,
   "id": "organized-secretary",
   "metadata": {},
   "outputs": [
    {
     "name": "stdout",
     "output_type": "stream",
     "text": [
      "WARNING:tensorflow:Skipping full serialization of Keras layer <model_lib.Model object at 0x7fe8b2727040>, because it is not built.\n"
     ]
    },
    {
     "name": "stderr",
     "output_type": "stream",
     "text": [
      "WARNING:absl:Found untraced functions such as resnet_layer_call_fn, resnet_layer_call_and_return_conditional_losses, proj_h_layer_call_fn, proj_h_layer_call_and_return_conditional_losses, resnet_layer_call_fn while saving (showing 5 of 995). These functions will not be directly callable after loading.\n",
      "WARNING:absl:Found untraced functions such as resnet_layer_call_fn, resnet_layer_call_and_return_conditional_losses, proj_h_layer_call_fn, proj_h_layer_call_and_return_conditional_losses, resnet_layer_call_fn while saving (showing 5 of 995). These functions will not be directly callable after loading.\n"
     ]
    },
    {
     "name": "stdout",
     "output_type": "stream",
     "text": [
      "INFO:tensorflow:Assets written to: checkpoint/saved_model/2513100/assets\n"
     ]
    },
    {
     "name": "stderr",
     "output_type": "stream",
     "text": [
      "INFO:tensorflow:Assets written to: checkpoint/saved_model/2513100/assets\n"
     ]
    }
   ],
   "source": [
    "save(model, global_step)"
   ]
  }
 ],
 "metadata": {
  "kernelspec": {
   "display_name": "Python 3",
   "language": "python",
   "name": "python3"
  },
  "language_info": {
   "codemirror_mode": {
    "name": "ipython",
    "version": 3
   },
   "file_extension": ".py",
   "mimetype": "text/x-python",
   "name": "python",
   "nbconvert_exporter": "python",
   "pygments_lexer": "ipython3",
   "version": "3.8.5"
  }
 },
 "nbformat": 4,
 "nbformat_minor": 5
}

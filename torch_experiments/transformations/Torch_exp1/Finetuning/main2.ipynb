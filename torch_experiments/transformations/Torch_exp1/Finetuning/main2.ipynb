{
 "cells": [
  {
   "cell_type": "code",
   "execution_count": 1,
   "id": "ac29da2b",
   "metadata": {},
   "outputs": [],
   "source": [
    "import Model as md\n",
    "import Resnet as res\n",
    "import data as dta\n",
    "\n",
    "import torch\n",
    "import torch.nn as nn\n",
    "import torch.optim as optim\n",
    "from pytorch_metric_learning import losses\n",
    "from torchvision import transforms as T\n",
    "from torch.utils.data import DataLoader\n",
    "from absl import app\n",
    "from absl import flags\n",
    "from absl import logging\n",
    "import os\n",
    "from tqdm import tqdm\n",
    "\n",
    "from torch.cuda import amp\n",
    "import pandas as pd\n",
    "import math"
   ]
  },
  {
   "cell_type": "code",
   "execution_count": 2,
   "id": "9bf18259",
   "metadata": {},
   "outputs": [],
   "source": [
    "encoder = res.ResNet50().cuda()\n",
    "proj_head = md.Projection_Head(encoder.representation_dim, 1).cuda()\n",
    "sup_head = md.Supervised_Head(proj_head.output, 5).cuda()"
   ]
  },
  {
   "cell_type": "code",
   "execution_count": 3,
   "id": "a2e28165",
   "metadata": {},
   "outputs": [],
   "source": [
    "optimizer = optim.SGD(list(encoder.parameters()) + list(proj_head.parameters()) +\n",
    "                      list(sup_head.parameters()), lr=0.004, weight_decay=1e-6,momentum=0.9)\n",
    "\n",
    "cross_entropy_loss = nn.CrossEntropyLoss()"
   ]
  },
  {
   "cell_type": "code",
   "execution_count": 4,
   "id": "f07fc108",
   "metadata": {},
   "outputs": [],
   "source": [
    "#Transformations\n",
    "transf = T.Compose([\n",
    "    T.CenterCrop(400),\n",
    "    T.Resize(112),\n",
    "    T.RandomVerticalFlip(),\n",
    "    T.RandomHorizontalFlip(),\n",
    "    T.RandomGrayscale(p=0.2),\n",
    "    T.ToTensor(),\n",
    "])\n",
    "\n",
    "transf_eval = T.Compose([\n",
    "    T.CenterCrop(400),\n",
    "    T.Resize(112),\n",
    "    T.ToTensor(),\n",
    "])"
   ]
  },
  {
   "cell_type": "code",
   "execution_count": 5,
   "id": "524bf6ae",
   "metadata": {},
   "outputs": [],
   "source": [
    "astro_ds = dta.AstroDataset('nair_unbalanced_train.csv', 'imagenes_clasificadas_nair/', transform=transf)\n",
    "dataset_astro = DataLoader(astro_ds,batch_size=128, shuffle=True,num_workers=6)"
   ]
  },
  {
   "cell_type": "code",
   "execution_count": 6,
   "id": "448e61d9",
   "metadata": {},
   "outputs": [],
   "source": [
    "eval_astro_ds = dta.AstroDataset('nair_unbalanced_train.csv', 'imagenes_clasificadas_nair/', transform=transf_eval)\n",
    "dataset_astro_val = DataLoader(eval_astro_ds,batch_size=128, shuffle=False,num_workers=6)"
   ]
  },
  {
   "cell_type": "code",
   "execution_count": 7,
   "id": "1a01446f",
   "metadata": {},
   "outputs": [],
   "source": [
    "scheduler = optim.lr_scheduler.CosineAnnealingLR(optimizer, (astro_ds.__len__() * 5 // 128 + 1))\n",
    "scaler = amp.GradScaler()"
   ]
  },
  {
   "cell_type": "code",
   "execution_count": 8,
   "id": "69af748c",
   "metadata": {},
   "outputs": [],
   "source": [
    "def save_model(encoder, projection_head, sup_head, epoch_number, optimizer, scheduler):\n",
    "    torch.save({\n",
    "        'encoder': encoder.state_dict(),\n",
    "        'projection_head': projection_head.state_dict(),\n",
    "        'supervised_head': sup_head.state_dict(),\n",
    "        'epoch': epoch,\n",
    "        'optimizer': optimizer.state_dict(),\n",
    "        'scheduler': scheduler.state_dict()\n",
    "    }, 'model/model.pt')"
   ]
  },
  {
   "cell_type": "code",
   "execution_count": 9,
   "id": "12ac2abd",
   "metadata": {},
   "outputs": [],
   "source": [
    "df = pd.DataFrame(columns=['Epoch','SupervisedLoss','Accuracy'])"
   ]
  },
  {
   "cell_type": "code",
   "execution_count": 10,
   "id": "10b47d65",
   "metadata": {},
   "outputs": [
    {
     "data": {
      "text/plain": [
       "_IncompatibleKeys(missing_keys=[], unexpected_keys=['second_layer.weight', 'second_layer.bias', 'second_bn.weight', 'second_bn.bias', 'second_bn.running_mean', 'second_bn.running_var', 'second_bn.num_batches_tracked', 'third_layer.weight', 'third_bn.running_mean', 'third_bn.running_var', 'third_bn.num_batches_tracked'])"
      ]
     },
     "execution_count": 10,
     "metadata": {},
     "output_type": "execute_result"
    }
   ],
   "source": [
    "checkpoint = torch.load('model/model.pt')\n",
    "encoder.load_state_dict(checkpoint['encoder'])\n",
    "proj_head.load_state_dict(checkpoint['projection_head'], strict=False)"
   ]
  },
  {
   "cell_type": "code",
   "execution_count": 11,
   "id": "5fd89c13",
   "metadata": {},
   "outputs": [
    {
     "name": "stderr",
     "output_type": "stream",
     "text": [
      "Epoch [0/5]: 100%|██████████████████████████████████████████████████████████| 74/74 [00:18<00:00,  4.09it/s, loss=1.78]\n"
     ]
    },
    {
     "name": "stdout",
     "output_type": "stream",
     "text": [
      "Epoch: 0, Loss: 1.1395058213053524, Contrastive Accuracy: 54.88729476928711\n",
      "Validation Step at Epoch: 0, Loss: nan, Sup Accuracy: 59.11761474609375\n"
     ]
    },
    {
     "name": "stderr",
     "output_type": "stream",
     "text": [
      "Epoch [1/5]: 100%|█████████████████████████████████████████████████████████| 74/74 [00:17<00:00,  4.30it/s, loss=0.969]\n"
     ]
    },
    {
     "name": "stdout",
     "output_type": "stream",
     "text": [
      "Epoch: 1, Loss: 1.0254793650395162, Contrastive Accuracy: 59.67311096191406\n",
      "Validation Step at Epoch: 1, Loss: nan, Sup Accuracy: 61.26482009887695\n"
     ]
    },
    {
     "name": "stderr",
     "output_type": "stream",
     "text": [
      "Epoch [2/5]: 100%|██████████████████████████████████████████████████████████| 74/74 [00:17<00:00,  4.24it/s, loss=1.33]\n"
     ]
    },
    {
     "name": "stdout",
     "output_type": "stream",
     "text": [
      "Epoch: 2, Loss: 0.9536526501178741, Contrastive Accuracy: 60.65591049194336\n",
      "Validation Step at Epoch: 2, Loss: nan, Sup Accuracy: 61.47846984863281\n"
     ]
    },
    {
     "name": "stderr",
     "output_type": "stream",
     "text": [
      "Epoch [3/5]: 100%|█████████████████████████████████████████████████████████| 74/74 [00:17<00:00,  4.21it/s, loss=0.749]\n"
     ]
    },
    {
     "name": "stdout",
     "output_type": "stream",
     "text": [
      "Epoch: 3, Loss: 0.9312415461282473, Contrastive Accuracy: 60.64522933959961\n",
      "Validation Step at Epoch: 3, Loss: nan, Sup Accuracy: 61.89509582519531\n"
     ]
    },
    {
     "name": "stderr",
     "output_type": "stream",
     "text": [
      "Epoch [4/5]: 100%|█████████████████████████████████████████████████████████| 74/74 [00:17<00:00,  4.29it/s, loss=0.969]\n"
     ]
    },
    {
     "name": "stdout",
     "output_type": "stream",
     "text": [
      "Epoch: 4, Loss: 0.9241772616231764, Contrastive Accuracy: 60.24997329711914\n",
      "Validation Step at Epoch: 4, Loss: nan, Sup Accuracy: 61.809635162353516\n"
     ]
    }
   ],
   "source": [
    "for epoch in range(0, 5):\n",
    "    acc_epoch = 0\n",
    "    epoch_loss = 0\n",
    "    m=0\n",
    "    #use tqdm\n",
    "    tqdm_loop = tqdm(enumerate(dataset_astro), total=len(dataset_astro), leave=True)\n",
    "    #tqdm_loop_val = tqdm(enumerate(dataset_astro_val), total=len(dataset_astro_val), leave=True)\n",
    "    encoder.train()\n",
    "    proj_head.train()\n",
    "    sup_head.train()\n",
    "    for batch_idx, data in tqdm_loop:\n",
    "        image = data[0].cuda()\n",
    "        labels = data[1].cuda()\n",
    "        optimizer.zero_grad()\n",
    "        with amp.autocast():\n",
    "            output = sup_head(proj_head(encoder(image)))\n",
    "            #print(output.shape)\n",
    "            #print(torch.sum(output, 0))\n",
    "            loss = cross_entropy_loss(output, labels)\n",
    "            epoch_loss += loss.item()\n",
    "\n",
    "        scaler.scale(loss).backward()\n",
    "        #loss.backward()\n",
    "        scaler.step(optimizer)\n",
    "        scaler.update()\n",
    "        #optimizer.step()\n",
    "        #epoch_loss += \n",
    "        #print(loss.item())\n",
    "        scheduler.step()\n",
    "        #update progress bar\n",
    "        tqdm_loop.set_description(f'Epoch [{epoch}/{5}]')\n",
    "        tqdm_loop.set_postfix(loss = loss.item())\n",
    "        \n",
    "        with torch.no_grad():\n",
    "            softmax = nn.Softmax(dim=1)\n",
    "            output = softmax(output)\n",
    "            #print(output)\n",
    "            acc = torch.argmax(output,dim=1)\n",
    "            acc = (acc == labels).float().sum()\n",
    "            acc_epoch += acc\n",
    "    #save_model(encoder, proj_head, epoch, optimizer, scheduler)\n",
    "    acc_epoch /= astro_ds.__len__()\n",
    "    epoch_loss /= (batch_idx+1)\n",
    "    d_list = [epoch, epoch_loss, acc_epoch.item()]\n",
    "    df.loc[len(df), :] = d_list\n",
    "    print('Epoch: {}, Loss: {}, Contrastive Accuracy: {}'.format(epoch, epoch_loss, acc_epoch*100))\n",
    "    \n",
    "    encoder.eval()\n",
    "    proj_head.eval()\n",
    "    sup_head.eval()\n",
    "    acc_vall, loss_val = 0 , 0\n",
    "    with torch.no_grad():\n",
    "        for image, label in dataset_astro_val:\n",
    "        #for batch_idx, data in tqdm_loop_val:\n",
    "            image = image.cuda()\n",
    "            label = label.cuda()\n",
    "            with amp.autocast():\n",
    "                output_val = sup_head(proj_head(encoder(image)))\n",
    "                #print(output.shape)\n",
    "                #print(torch.sum(output, 0))\n",
    "                losss = cross_entropy_loss(output_val, label)\n",
    "                #print(losss)\n",
    "                loss_val += losss.item()\n",
    "                output_val = softmax(output_val)\n",
    "                acc_val = torch.argmax(output_val,dim=1)\n",
    "                acc_val = (acc_val == label).float().sum()\n",
    "                acc_vall += acc_val\n",
    "                #update progress bar\n",
    "            #tqdm_loop_val.set_description(f'Epoch [{epoch}/{5}]')\n",
    "            #tqdm_loop_val.set_postfix(loss = loss.item())\n",
    "        acc_vall /= eval_astro_ds.__len__()\n",
    "        loss_val /= eval_astro_ds.__len__()\n",
    "    print('Validation Step at Epoch: {}, Loss: {}, Sup Accuracy: {}'.format(epoch, loss_val, acc_vall*100))"
   ]
  },
  {
   "cell_type": "code",
   "execution_count": 12,
   "id": "f0d66081",
   "metadata": {},
   "outputs": [
    {
     "data": {
      "text/html": [
       "<div>\n",
       "<style scoped>\n",
       "    .dataframe tbody tr th:only-of-type {\n",
       "        vertical-align: middle;\n",
       "    }\n",
       "\n",
       "    .dataframe tbody tr th {\n",
       "        vertical-align: top;\n",
       "    }\n",
       "\n",
       "    .dataframe thead th {\n",
       "        text-align: right;\n",
       "    }\n",
       "</style>\n",
       "<table border=\"1\" class=\"dataframe\">\n",
       "  <thead>\n",
       "    <tr style=\"text-align: right;\">\n",
       "      <th></th>\n",
       "      <th>Epoch</th>\n",
       "      <th>SupervisedLoss</th>\n",
       "      <th>Accuracy</th>\n",
       "    </tr>\n",
       "  </thead>\n",
       "  <tbody>\n",
       "    <tr>\n",
       "      <th>0</th>\n",
       "      <td>0</td>\n",
       "      <td>1.139506</td>\n",
       "      <td>0.548873</td>\n",
       "    </tr>\n",
       "    <tr>\n",
       "      <th>1</th>\n",
       "      <td>1</td>\n",
       "      <td>1.025479</td>\n",
       "      <td>0.596731</td>\n",
       "    </tr>\n",
       "    <tr>\n",
       "      <th>2</th>\n",
       "      <td>2</td>\n",
       "      <td>0.953653</td>\n",
       "      <td>0.606559</td>\n",
       "    </tr>\n",
       "    <tr>\n",
       "      <th>3</th>\n",
       "      <td>3</td>\n",
       "      <td>0.931242</td>\n",
       "      <td>0.606452</td>\n",
       "    </tr>\n",
       "    <tr>\n",
       "      <th>4</th>\n",
       "      <td>4</td>\n",
       "      <td>0.924177</td>\n",
       "      <td>0.6025</td>\n",
       "    </tr>\n",
       "  </tbody>\n",
       "</table>\n",
       "</div>"
      ],
      "text/plain": [
       "  Epoch SupervisedLoss  Accuracy\n",
       "0     0       1.139506  0.548873\n",
       "1     1       1.025479  0.596731\n",
       "2     2       0.953653  0.606559\n",
       "3     3       0.931242  0.606452\n",
       "4     4       0.924177    0.6025"
      ]
     },
     "execution_count": 12,
     "metadata": {},
     "output_type": "execute_result"
    }
   ],
   "source": [
    "df"
   ]
  },
  {
   "cell_type": "code",
   "execution_count": 13,
   "id": "0e881470",
   "metadata": {},
   "outputs": [],
   "source": [
    "a = None\n",
    "if a is not None:\n",
    "    print('hello')"
   ]
  },
  {
   "cell_type": "code",
   "execution_count": 14,
   "id": "c6b4294c",
   "metadata": {},
   "outputs": [],
   "source": [
    "d = 0 if a is not None else 4"
   ]
  },
  {
   "cell_type": "code",
   "execution_count": 15,
   "id": "45795718",
   "metadata": {},
   "outputs": [],
   "source": [
    "s = None"
   ]
  },
  {
   "cell_type": "code",
   "execution_count": 16,
   "id": "3713e977",
   "metadata": {},
   "outputs": [
    {
     "ename": "AttributeError",
     "evalue": "'NoneType' object has no attribute 'parameters'",
     "output_type": "error",
     "traceback": [
      "\u001b[1;31m---------------------------------------------------------------------------\u001b[0m",
      "\u001b[1;31mAttributeError\u001b[0m                            Traceback (most recent call last)",
      "\u001b[1;32m<ipython-input-16-441cba4a04a6>\u001b[0m in \u001b[0;36m<module>\u001b[1;34m\u001b[0m\n\u001b[1;32m----> 1\u001b[1;33m \u001b[0mlist\u001b[0m\u001b[1;33m(\u001b[0m\u001b[0ms\u001b[0m\u001b[1;33m.\u001b[0m\u001b[0mparameters\u001b[0m\u001b[1;33m(\u001b[0m\u001b[1;33m)\u001b[0m\u001b[1;33m)\u001b[0m\u001b[1;33m\u001b[0m\u001b[1;33m\u001b[0m\u001b[0m\n\u001b[0m",
      "\u001b[1;31mAttributeError\u001b[0m: 'NoneType' object has no attribute 'parameters'"
     ]
    }
   ],
   "source": [
    "list(s.parameters())"
   ]
  }
 ],
 "metadata": {
  "kernelspec": {
   "display_name": "Python 3",
   "language": "python",
   "name": "python3"
  },
  "language_info": {
   "codemirror_mode": {
    "name": "ipython",
    "version": 3
   },
   "file_extension": ".py",
   "mimetype": "text/x-python",
   "name": "python",
   "nbconvert_exporter": "python",
   "pygments_lexer": "ipython3",
   "version": "3.8.8"
  }
 },
 "nbformat": 4,
 "nbformat_minor": 5
}
